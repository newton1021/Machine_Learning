{
 "cells": [
  {
   "cell_type": "markdown",
   "metadata": {},
   "source": [
    "# Model_2 \n",
    "+ Sequential\n",
    "+ removing the error parameters"
   ]
  },
  {
   "cell_type": "code",
   "execution_count": 1,
   "metadata": {},
   "outputs": [],
   "source": [
    "import pandas as pd\n",
    "import numpy as np"
   ]
  },
  {
   "cell_type": "markdown",
   "metadata": {},
   "source": [
    "# Read the CSV and Perform Basic Data Cleaning"
   ]
  },
  {
   "cell_type": "code",
   "execution_count": 2,
   "metadata": {},
   "outputs": [
    {
     "data": {
      "text/html": [
       "<div>\n",
       "<style scoped>\n",
       "    .dataframe tbody tr th:only-of-type {\n",
       "        vertical-align: middle;\n",
       "    }\n",
       "\n",
       "    .dataframe tbody tr th {\n",
       "        vertical-align: top;\n",
       "    }\n",
       "\n",
       "    .dataframe thead th {\n",
       "        text-align: right;\n",
       "    }\n",
       "</style>\n",
       "<table border=\"1\" class=\"dataframe\">\n",
       "  <thead>\n",
       "    <tr style=\"text-align: right;\">\n",
       "      <th></th>\n",
       "      <th>koi_disposition</th>\n",
       "      <th>koi_fpflag_nt</th>\n",
       "      <th>koi_fpflag_ss</th>\n",
       "      <th>koi_fpflag_co</th>\n",
       "      <th>koi_fpflag_ec</th>\n",
       "      <th>koi_period</th>\n",
       "      <th>koi_period_err1</th>\n",
       "      <th>koi_period_err2</th>\n",
       "      <th>koi_time0bk</th>\n",
       "      <th>koi_time0bk_err1</th>\n",
       "      <th>...</th>\n",
       "      <th>koi_steff_err2</th>\n",
       "      <th>koi_slogg</th>\n",
       "      <th>koi_slogg_err1</th>\n",
       "      <th>koi_slogg_err2</th>\n",
       "      <th>koi_srad</th>\n",
       "      <th>koi_srad_err1</th>\n",
       "      <th>koi_srad_err2</th>\n",
       "      <th>ra</th>\n",
       "      <th>dec</th>\n",
       "      <th>koi_kepmag</th>\n",
       "    </tr>\n",
       "  </thead>\n",
       "  <tbody>\n",
       "    <tr>\n",
       "      <th>0</th>\n",
       "      <td>CONFIRMED</td>\n",
       "      <td>0</td>\n",
       "      <td>0</td>\n",
       "      <td>0</td>\n",
       "      <td>0</td>\n",
       "      <td>54.418383</td>\n",
       "      <td>2.479000e-04</td>\n",
       "      <td>-2.479000e-04</td>\n",
       "      <td>162.513840</td>\n",
       "      <td>0.003520</td>\n",
       "      <td>...</td>\n",
       "      <td>-81</td>\n",
       "      <td>4.467</td>\n",
       "      <td>0.064</td>\n",
       "      <td>-0.096</td>\n",
       "      <td>0.927</td>\n",
       "      <td>0.105</td>\n",
       "      <td>-0.061</td>\n",
       "      <td>291.93423</td>\n",
       "      <td>48.141651</td>\n",
       "      <td>15.347</td>\n",
       "    </tr>\n",
       "    <tr>\n",
       "      <th>1</th>\n",
       "      <td>FALSE POSITIVE</td>\n",
       "      <td>0</td>\n",
       "      <td>1</td>\n",
       "      <td>0</td>\n",
       "      <td>0</td>\n",
       "      <td>19.899140</td>\n",
       "      <td>1.490000e-05</td>\n",
       "      <td>-1.490000e-05</td>\n",
       "      <td>175.850252</td>\n",
       "      <td>0.000581</td>\n",
       "      <td>...</td>\n",
       "      <td>-176</td>\n",
       "      <td>4.544</td>\n",
       "      <td>0.044</td>\n",
       "      <td>-0.176</td>\n",
       "      <td>0.868</td>\n",
       "      <td>0.233</td>\n",
       "      <td>-0.078</td>\n",
       "      <td>297.00482</td>\n",
       "      <td>48.134129</td>\n",
       "      <td>15.436</td>\n",
       "    </tr>\n",
       "    <tr>\n",
       "      <th>2</th>\n",
       "      <td>FALSE POSITIVE</td>\n",
       "      <td>0</td>\n",
       "      <td>1</td>\n",
       "      <td>0</td>\n",
       "      <td>0</td>\n",
       "      <td>1.736952</td>\n",
       "      <td>2.630000e-07</td>\n",
       "      <td>-2.630000e-07</td>\n",
       "      <td>170.307565</td>\n",
       "      <td>0.000115</td>\n",
       "      <td>...</td>\n",
       "      <td>-174</td>\n",
       "      <td>4.564</td>\n",
       "      <td>0.053</td>\n",
       "      <td>-0.168</td>\n",
       "      <td>0.791</td>\n",
       "      <td>0.201</td>\n",
       "      <td>-0.067</td>\n",
       "      <td>285.53461</td>\n",
       "      <td>48.285210</td>\n",
       "      <td>15.597</td>\n",
       "    </tr>\n",
       "    <tr>\n",
       "      <th>3</th>\n",
       "      <td>CONFIRMED</td>\n",
       "      <td>0</td>\n",
       "      <td>0</td>\n",
       "      <td>0</td>\n",
       "      <td>0</td>\n",
       "      <td>2.525592</td>\n",
       "      <td>3.760000e-06</td>\n",
       "      <td>-3.760000e-06</td>\n",
       "      <td>171.595550</td>\n",
       "      <td>0.001130</td>\n",
       "      <td>...</td>\n",
       "      <td>-211</td>\n",
       "      <td>4.438</td>\n",
       "      <td>0.070</td>\n",
       "      <td>-0.210</td>\n",
       "      <td>1.046</td>\n",
       "      <td>0.334</td>\n",
       "      <td>-0.133</td>\n",
       "      <td>288.75488</td>\n",
       "      <td>48.226200</td>\n",
       "      <td>15.509</td>\n",
       "    </tr>\n",
       "    <tr>\n",
       "      <th>4</th>\n",
       "      <td>CONFIRMED</td>\n",
       "      <td>0</td>\n",
       "      <td>0</td>\n",
       "      <td>0</td>\n",
       "      <td>0</td>\n",
       "      <td>4.134435</td>\n",
       "      <td>1.050000e-05</td>\n",
       "      <td>-1.050000e-05</td>\n",
       "      <td>172.979370</td>\n",
       "      <td>0.001900</td>\n",
       "      <td>...</td>\n",
       "      <td>-232</td>\n",
       "      <td>4.486</td>\n",
       "      <td>0.054</td>\n",
       "      <td>-0.229</td>\n",
       "      <td>0.972</td>\n",
       "      <td>0.315</td>\n",
       "      <td>-0.105</td>\n",
       "      <td>296.28613</td>\n",
       "      <td>48.224670</td>\n",
       "      <td>15.714</td>\n",
       "    </tr>\n",
       "  </tbody>\n",
       "</table>\n",
       "<p>5 rows × 41 columns</p>\n",
       "</div>"
      ],
      "text/plain": [
       "  koi_disposition  koi_fpflag_nt  koi_fpflag_ss  koi_fpflag_co  koi_fpflag_ec  \\\n",
       "0       CONFIRMED              0              0              0              0   \n",
       "1  FALSE POSITIVE              0              1              0              0   \n",
       "2  FALSE POSITIVE              0              1              0              0   \n",
       "3       CONFIRMED              0              0              0              0   \n",
       "4       CONFIRMED              0              0              0              0   \n",
       "\n",
       "   koi_period  koi_period_err1  koi_period_err2  koi_time0bk  \\\n",
       "0   54.418383     2.479000e-04    -2.479000e-04   162.513840   \n",
       "1   19.899140     1.490000e-05    -1.490000e-05   175.850252   \n",
       "2    1.736952     2.630000e-07    -2.630000e-07   170.307565   \n",
       "3    2.525592     3.760000e-06    -3.760000e-06   171.595550   \n",
       "4    4.134435     1.050000e-05    -1.050000e-05   172.979370   \n",
       "\n",
       "   koi_time0bk_err1  ...  koi_steff_err2  koi_slogg  koi_slogg_err1  \\\n",
       "0          0.003520  ...             -81      4.467           0.064   \n",
       "1          0.000581  ...            -176      4.544           0.044   \n",
       "2          0.000115  ...            -174      4.564           0.053   \n",
       "3          0.001130  ...            -211      4.438           0.070   \n",
       "4          0.001900  ...            -232      4.486           0.054   \n",
       "\n",
       "   koi_slogg_err2  koi_srad  koi_srad_err1  koi_srad_err2         ra  \\\n",
       "0          -0.096     0.927          0.105         -0.061  291.93423   \n",
       "1          -0.176     0.868          0.233         -0.078  297.00482   \n",
       "2          -0.168     0.791          0.201         -0.067  285.53461   \n",
       "3          -0.210     1.046          0.334         -0.133  288.75488   \n",
       "4          -0.229     0.972          0.315         -0.105  296.28613   \n",
       "\n",
       "         dec  koi_kepmag  \n",
       "0  48.141651      15.347  \n",
       "1  48.134129      15.436  \n",
       "2  48.285210      15.597  \n",
       "3  48.226200      15.509  \n",
       "4  48.224670      15.714  \n",
       "\n",
       "[5 rows x 41 columns]"
      ]
     },
     "execution_count": 2,
     "metadata": {},
     "output_type": "execute_result"
    }
   ],
   "source": [
    "df = pd.read_csv(\"exoplanet_data.csv\")\n",
    "# Drop the null columns where all values are null\n",
    "df = df.dropna(axis='columns', how='all')\n",
    "# Drop the null rows\n",
    "df = df.dropna()\n",
    "df.head()"
   ]
  },
  {
   "cell_type": "code",
   "execution_count": 3,
   "metadata": {},
   "outputs": [
    {
     "data": {
      "text/plain": [
       "array(['CONFIRMED', 'FALSE POSITIVE', 'CANDIDATE'], dtype=object)"
      ]
     },
     "execution_count": 3,
     "metadata": {},
     "output_type": "execute_result"
    }
   ],
   "source": [
    "df[\"koi_disposition\"].unique()"
   ]
  },
  {
   "cell_type": "code",
   "execution_count": 4,
   "metadata": {},
   "outputs": [],
   "source": [
    "data_valid = df[df.koi_disposition != 'CANDIDATE']"
   ]
  },
  {
   "cell_type": "code",
   "execution_count": 5,
   "metadata": {},
   "outputs": [],
   "source": [
    "data_unknown = df[df.koi_disposition == 'CANDIDATE']"
   ]
  },
  {
   "cell_type": "markdown",
   "metadata": {},
   "source": [
    "# Select your features (columns)"
   ]
  },
  {
   "cell_type": "code",
   "execution_count": 6,
   "metadata": {},
   "outputs": [],
   "source": [
    "# Set features. This will also be used as your x values.\n",
    "selected_features = data_valid[['koi_period', 'koi_impact', 'koi_duration', 'koi_depth', 'koi_prad','koi_teq', 'koi_slogg','koi_srad' ]]"
   ]
  },
  {
   "cell_type": "code",
   "execution_count": 7,
   "metadata": {},
   "outputs": [],
   "source": [
    "result = data_valid[['koi_disposition']]"
   ]
  },
  {
   "cell_type": "code",
   "execution_count": 8,
   "metadata": {},
   "outputs": [
    {
     "data": {
      "text/html": [
       "<div>\n",
       "<style scoped>\n",
       "    .dataframe tbody tr th:only-of-type {\n",
       "        vertical-align: middle;\n",
       "    }\n",
       "\n",
       "    .dataframe tbody tr th {\n",
       "        vertical-align: top;\n",
       "    }\n",
       "\n",
       "    .dataframe thead th {\n",
       "        text-align: right;\n",
       "    }\n",
       "</style>\n",
       "<table border=\"1\" class=\"dataframe\">\n",
       "  <thead>\n",
       "    <tr style=\"text-align: right;\">\n",
       "      <th></th>\n",
       "      <th>koi_period</th>\n",
       "      <th>koi_impact</th>\n",
       "      <th>koi_duration</th>\n",
       "      <th>koi_depth</th>\n",
       "      <th>koi_prad</th>\n",
       "      <th>koi_teq</th>\n",
       "      <th>koi_slogg</th>\n",
       "      <th>koi_srad</th>\n",
       "    </tr>\n",
       "  </thead>\n",
       "  <tbody>\n",
       "    <tr>\n",
       "      <th>0</th>\n",
       "      <td>54.418383</td>\n",
       "      <td>0.586</td>\n",
       "      <td>4.50700</td>\n",
       "      <td>874.8</td>\n",
       "      <td>2.83</td>\n",
       "      <td>443</td>\n",
       "      <td>4.467</td>\n",
       "      <td>0.927</td>\n",
       "    </tr>\n",
       "    <tr>\n",
       "      <th>1</th>\n",
       "      <td>19.899140</td>\n",
       "      <td>0.969</td>\n",
       "      <td>1.78220</td>\n",
       "      <td>10829.0</td>\n",
       "      <td>14.60</td>\n",
       "      <td>638</td>\n",
       "      <td>4.544</td>\n",
       "      <td>0.868</td>\n",
       "    </tr>\n",
       "    <tr>\n",
       "      <th>2</th>\n",
       "      <td>1.736952</td>\n",
       "      <td>1.276</td>\n",
       "      <td>2.40641</td>\n",
       "      <td>8079.2</td>\n",
       "      <td>33.46</td>\n",
       "      <td>1395</td>\n",
       "      <td>4.564</td>\n",
       "      <td>0.791</td>\n",
       "    </tr>\n",
       "    <tr>\n",
       "      <th>3</th>\n",
       "      <td>2.525592</td>\n",
       "      <td>0.701</td>\n",
       "      <td>1.65450</td>\n",
       "      <td>603.3</td>\n",
       "      <td>2.75</td>\n",
       "      <td>1406</td>\n",
       "      <td>4.438</td>\n",
       "      <td>1.046</td>\n",
       "    </tr>\n",
       "    <tr>\n",
       "      <th>4</th>\n",
       "      <td>4.134435</td>\n",
       "      <td>0.762</td>\n",
       "      <td>3.14020</td>\n",
       "      <td>686.0</td>\n",
       "      <td>2.77</td>\n",
       "      <td>1160</td>\n",
       "      <td>4.486</td>\n",
       "      <td>0.972</td>\n",
       "    </tr>\n",
       "    <tr>\n",
       "      <th>...</th>\n",
       "      <td>...</td>\n",
       "      <td>...</td>\n",
       "      <td>...</td>\n",
       "      <td>...</td>\n",
       "      <td>...</td>\n",
       "      <td>...</td>\n",
       "      <td>...</td>\n",
       "      <td>...</td>\n",
       "    </tr>\n",
       "    <tr>\n",
       "      <th>6983</th>\n",
       "      <td>21.513523</td>\n",
       "      <td>2.441</td>\n",
       "      <td>77.98300</td>\n",
       "      <td>1583.8</td>\n",
       "      <td>534.47</td>\n",
       "      <td>1006</td>\n",
       "      <td>3.508</td>\n",
       "      <td>3.318</td>\n",
       "    </tr>\n",
       "    <tr>\n",
       "      <th>6986</th>\n",
       "      <td>8.589871</td>\n",
       "      <td>0.765</td>\n",
       "      <td>4.80600</td>\n",
       "      <td>87.7</td>\n",
       "      <td>1.11</td>\n",
       "      <td>929</td>\n",
       "      <td>4.296</td>\n",
       "      <td>1.088</td>\n",
       "    </tr>\n",
       "    <tr>\n",
       "      <th>6987</th>\n",
       "      <td>0.527699</td>\n",
       "      <td>1.252</td>\n",
       "      <td>3.22210</td>\n",
       "      <td>1579.2</td>\n",
       "      <td>29.35</td>\n",
       "      <td>2088</td>\n",
       "      <td>4.529</td>\n",
       "      <td>0.903</td>\n",
       "    </tr>\n",
       "    <tr>\n",
       "      <th>6989</th>\n",
       "      <td>0.681402</td>\n",
       "      <td>0.147</td>\n",
       "      <td>0.86500</td>\n",
       "      <td>103.6</td>\n",
       "      <td>1.07</td>\n",
       "      <td>2218</td>\n",
       "      <td>4.447</td>\n",
       "      <td>1.041</td>\n",
       "    </tr>\n",
       "    <tr>\n",
       "      <th>6990</th>\n",
       "      <td>4.856035</td>\n",
       "      <td>0.134</td>\n",
       "      <td>3.07800</td>\n",
       "      <td>76.7</td>\n",
       "      <td>1.05</td>\n",
       "      <td>1266</td>\n",
       "      <td>4.385</td>\n",
       "      <td>1.193</td>\n",
       "    </tr>\n",
       "  </tbody>\n",
       "</table>\n",
       "<p>5304 rows × 8 columns</p>\n",
       "</div>"
      ],
      "text/plain": [
       "      koi_period  koi_impact  koi_duration  koi_depth  koi_prad  koi_teq  \\\n",
       "0      54.418383       0.586       4.50700      874.8      2.83      443   \n",
       "1      19.899140       0.969       1.78220    10829.0     14.60      638   \n",
       "2       1.736952       1.276       2.40641     8079.2     33.46     1395   \n",
       "3       2.525592       0.701       1.65450      603.3      2.75     1406   \n",
       "4       4.134435       0.762       3.14020      686.0      2.77     1160   \n",
       "...          ...         ...           ...        ...       ...      ...   \n",
       "6983   21.513523       2.441      77.98300     1583.8    534.47     1006   \n",
       "6986    8.589871       0.765       4.80600       87.7      1.11      929   \n",
       "6987    0.527699       1.252       3.22210     1579.2     29.35     2088   \n",
       "6989    0.681402       0.147       0.86500      103.6      1.07     2218   \n",
       "6990    4.856035       0.134       3.07800       76.7      1.05     1266   \n",
       "\n",
       "      koi_slogg  koi_srad  \n",
       "0         4.467     0.927  \n",
       "1         4.544     0.868  \n",
       "2         4.564     0.791  \n",
       "3         4.438     1.046  \n",
       "4         4.486     0.972  \n",
       "...         ...       ...  \n",
       "6983      3.508     3.318  \n",
       "6986      4.296     1.088  \n",
       "6987      4.529     0.903  \n",
       "6989      4.447     1.041  \n",
       "6990      4.385     1.193  \n",
       "\n",
       "[5304 rows x 8 columns]"
      ]
     },
     "execution_count": 8,
     "metadata": {},
     "output_type": "execute_result"
    }
   ],
   "source": [
    "selected_features"
   ]
  },
  {
   "cell_type": "markdown",
   "metadata": {},
   "source": [
    "# Create a Train Test Split\n",
    "\n",
    "Use `koi_disposition` for the y values"
   ]
  },
  {
   "cell_type": "code",
   "execution_count": 9,
   "metadata": {},
   "outputs": [],
   "source": [
    "from sklearn.model_selection import train_test_split"
   ]
  },
  {
   "cell_type": "code",
   "execution_count": 14,
   "metadata": {
    "scrolled": true
   },
   "outputs": [],
   "source": [
    "y = result\n",
    "x = selected_features"
   ]
  },
  {
   "cell_type": "code",
   "execution_count": 15,
   "metadata": {},
   "outputs": [],
   "source": [
    "X_train, X_test, y_train, y_test = train_test_split(x,y,test_size=0.33, random_state=42)"
   ]
  },
  {
   "cell_type": "code",
   "execution_count": 16,
   "metadata": {},
   "outputs": [
    {
     "data": {
      "text/html": [
       "<div>\n",
       "<style scoped>\n",
       "    .dataframe tbody tr th:only-of-type {\n",
       "        vertical-align: middle;\n",
       "    }\n",
       "\n",
       "    .dataframe tbody tr th {\n",
       "        vertical-align: top;\n",
       "    }\n",
       "\n",
       "    .dataframe thead th {\n",
       "        text-align: right;\n",
       "    }\n",
       "</style>\n",
       "<table border=\"1\" class=\"dataframe\">\n",
       "  <thead>\n",
       "    <tr style=\"text-align: right;\">\n",
       "      <th></th>\n",
       "      <th>koi_period</th>\n",
       "      <th>koi_impact</th>\n",
       "      <th>koi_duration</th>\n",
       "      <th>koi_depth</th>\n",
       "      <th>koi_prad</th>\n",
       "      <th>koi_teq</th>\n",
       "      <th>koi_slogg</th>\n",
       "      <th>koi_srad</th>\n",
       "    </tr>\n",
       "  </thead>\n",
       "  <tbody>\n",
       "    <tr>\n",
       "      <th>2997</th>\n",
       "      <td>1.540389</td>\n",
       "      <td>0.043</td>\n",
       "      <td>1.68300</td>\n",
       "      <td>71.8</td>\n",
       "      <td>0.84</td>\n",
       "      <td>1638</td>\n",
       "      <td>4.422</td>\n",
       "      <td>0.989</td>\n",
       "    </tr>\n",
       "    <tr>\n",
       "      <th>6216</th>\n",
       "      <td>1.075577</td>\n",
       "      <td>0.886</td>\n",
       "      <td>4.11779</td>\n",
       "      <td>140580.0</td>\n",
       "      <td>69.11</td>\n",
       "      <td>2094</td>\n",
       "      <td>4.217</td>\n",
       "      <td>1.267</td>\n",
       "    </tr>\n",
       "    <tr>\n",
       "      <th>1398</th>\n",
       "      <td>34.060768</td>\n",
       "      <td>0.786</td>\n",
       "      <td>2.47100</td>\n",
       "      <td>818.9</td>\n",
       "      <td>2.96</td>\n",
       "      <td>554</td>\n",
       "      <td>4.505</td>\n",
       "      <td>0.940</td>\n",
       "    </tr>\n",
       "    <tr>\n",
       "      <th>1035</th>\n",
       "      <td>16.923421</td>\n",
       "      <td>0.515</td>\n",
       "      <td>4.18640</td>\n",
       "      <td>1125.3</td>\n",
       "      <td>3.40</td>\n",
       "      <td>702</td>\n",
       "      <td>4.465</td>\n",
       "      <td>0.990</td>\n",
       "    </tr>\n",
       "    <tr>\n",
       "      <th>4605</th>\n",
       "      <td>1.213747</td>\n",
       "      <td>0.831</td>\n",
       "      <td>5.79293</td>\n",
       "      <td>185130.0</td>\n",
       "      <td>96.19</td>\n",
       "      <td>2441</td>\n",
       "      <td>4.137</td>\n",
       "      <td>1.619</td>\n",
       "    </tr>\n",
       "  </tbody>\n",
       "</table>\n",
       "</div>"
      ],
      "text/plain": [
       "      koi_period  koi_impact  koi_duration  koi_depth  koi_prad  koi_teq  \\\n",
       "2997    1.540389       0.043       1.68300       71.8      0.84     1638   \n",
       "6216    1.075577       0.886       4.11779   140580.0     69.11     2094   \n",
       "1398   34.060768       0.786       2.47100      818.9      2.96      554   \n",
       "1035   16.923421       0.515       4.18640     1125.3      3.40      702   \n",
       "4605    1.213747       0.831       5.79293   185130.0     96.19     2441   \n",
       "\n",
       "      koi_slogg  koi_srad  \n",
       "2997      4.422     0.989  \n",
       "6216      4.217     1.267  \n",
       "1398      4.505     0.940  \n",
       "1035      4.465     0.990  \n",
       "4605      4.137     1.619  "
      ]
     },
     "execution_count": 16,
     "metadata": {},
     "output_type": "execute_result"
    }
   ],
   "source": [
    "X_train.head()"
   ]
  },
  {
   "cell_type": "code",
   "execution_count": 17,
   "metadata": {},
   "outputs": [
    {
     "data": {
      "text/plain": [
       "<bound method NDFrame.head of      koi_disposition\n",
       "2997  FALSE POSITIVE\n",
       "6216  FALSE POSITIVE\n",
       "1398       CONFIRMED\n",
       "1035       CONFIRMED\n",
       "4605  FALSE POSITIVE\n",
       "...              ...\n",
       "4043  FALSE POSITIVE\n",
       "4985  FALSE POSITIVE\n",
       "6836  FALSE POSITIVE\n",
       "6880  FALSE POSITIVE\n",
       "996        CONFIRMED\n",
       "\n",
       "[3553 rows x 1 columns]>"
      ]
     },
     "execution_count": 17,
     "metadata": {},
     "output_type": "execute_result"
    }
   ],
   "source": [
    "y_train.head"
   ]
  },
  {
   "cell_type": "markdown",
   "metadata": {},
   "source": [
    "# Pre-processing\n",
    "\n",
    "Scale the data using the MinMaxScaler and perform some feature selection"
   ]
  },
  {
   "cell_type": "code",
   "execution_count": 18,
   "metadata": {},
   "outputs": [],
   "source": [
    "# Scale your data\n",
    "from sklearn.preprocessing import MinMaxScaler\n",
    "scaler = MinMaxScaler()\n",
    "scaler.fit(X_train)\n",
    "\n",
    "X_train_scaled = scaler.transform(X_train)\n",
    "X_test_scaled = scaler.transform(X_test)\n",
    "\n"
   ]
  },
  {
   "cell_type": "code",
   "execution_count": 19,
   "metadata": {},
   "outputs": [
    {
     "data": {
      "text/plain": [
       "((3553, 8), (3553, 1))"
      ]
     },
     "execution_count": 19,
     "metadata": {},
     "output_type": "execute_result"
    }
   ],
   "source": [
    "X_train_scaled.shape,y_train.shape"
   ]
  },
  {
   "cell_type": "code",
   "execution_count": 20,
   "metadata": {},
   "outputs": [
    {
     "data": {
      "text/plain": [
       "LabelEncoder()"
      ]
     },
     "execution_count": 20,
     "metadata": {},
     "output_type": "execute_result"
    }
   ],
   "source": [
    "from sklearn.preprocessing import LabelEncoder\n",
    "\n",
    "label_encoder = LabelEncoder()\n",
    "label_encoder.fit(y_train.values.ravel())"
   ]
  },
  {
   "cell_type": "code",
   "execution_count": 21,
   "metadata": {},
   "outputs": [],
   "source": [
    "y_train_encoded = label_encoder.transform(y_train.values.ravel())\n",
    "y_test_encoded = label_encoder.transform(y_test.values.ravel())"
   ]
  },
  {
   "cell_type": "code",
   "execution_count": 23,
   "metadata": {},
   "outputs": [],
   "source": [
    "from tensorflow.keras.utils import to_categorical\n",
    "\n",
    "y_train_categorical = to_categorical(y_train_encoded)\n",
    "y_test_categorical = to_categorical(y_test_encoded)"
   ]
  },
  {
   "cell_type": "code",
   "execution_count": 24,
   "metadata": {},
   "outputs": [
    {
     "data": {
      "text/plain": [
       "array([[0., 1.],\n",
       "       [0., 1.],\n",
       "       [1., 0.],\n",
       "       ...,\n",
       "       [0., 1.],\n",
       "       [0., 1.],\n",
       "       [1., 0.]], dtype=float32)"
      ]
     },
     "execution_count": 24,
     "metadata": {},
     "output_type": "execute_result"
    }
   ],
   "source": [
    "y_train_categorical"
   ]
  },
  {
   "cell_type": "code",
   "execution_count": 27,
   "metadata": {},
   "outputs": [
    {
     "data": {
      "text/plain": [
       "8"
      ]
     },
     "execution_count": 27,
     "metadata": {},
     "output_type": "execute_result"
    }
   ],
   "source": [
    "inputs"
   ]
  },
  {
   "cell_type": "markdown",
   "metadata": {},
   "source": [
    "# Train the Model\n",
    "\n"
   ]
  },
  {
   "cell_type": "code",
   "execution_count": 31,
   "metadata": {},
   "outputs": [],
   "source": [
    "from tensorflow.keras.models import Sequential\n",
    "from tensorflow.keras.layers import Dense\n",
    "inputs = X_train_scaled.shape[1]\n",
    "outs = y_train_categorical.shape[1]\n",
    "trials = 50\n",
    "\n",
    "\n",
    "\n",
    "model = Sequential()\n",
    "model.add(Dense(units=trials, activation='relu', input_dim=inputs))\n",
    "model.add(Dense(units=trials, activation='relu', input_dim=inputs))\n",
    "model.add(Dense(units=outs, activation='softmax'))"
   ]
  },
  {
   "cell_type": "code",
   "execution_count": 32,
   "metadata": {},
   "outputs": [
    {
     "name": "stdout",
     "output_type": "stream",
     "text": [
      "Epoch 1/100\n",
      "112/112 [==============================] - 0s 805us/step - loss: 0.6163 - accuracy: 0.6648\n",
      "Epoch 2/100\n",
      "112/112 [==============================] - 0s 807us/step - loss: 0.5224 - accuracy: 0.7019\n",
      "Epoch 3/100\n",
      "112/112 [==============================] - 0s 806us/step - loss: 0.4586 - accuracy: 0.7692\n",
      "Epoch 4/100\n",
      "112/112 [==============================] - 0s 818us/step - loss: 0.4291 - accuracy: 0.7869\n",
      "Epoch 5/100\n",
      "112/112 [==============================] - 0s 816us/step - loss: 0.4133 - accuracy: 0.7959\n",
      "Epoch 6/100\n",
      "112/112 [==============================] - 0s 811us/step - loss: 0.4048 - accuracy: 0.8058\n",
      "Epoch 7/100\n",
      "112/112 [==============================] - 0s 815us/step - loss: 0.3986 - accuracy: 0.8140\n",
      "Epoch 8/100\n",
      "112/112 [==============================] - 0s 923us/step - loss: 0.3899 - accuracy: 0.8176\n",
      "Epoch 9/100\n",
      "112/112 [==============================] - 0s 831us/step - loss: 0.3817 - accuracy: 0.8204\n",
      "Epoch 10/100\n",
      "112/112 [==============================] - 0s 849us/step - loss: 0.3770 - accuracy: 0.8235\n",
      "Epoch 11/100\n",
      "112/112 [==============================] - 0s 817us/step - loss: 0.3715 - accuracy: 0.8278\n",
      "Epoch 12/100\n",
      "112/112 [==============================] - 0s 803us/step - loss: 0.3647 - accuracy: 0.8373\n",
      "Epoch 13/100\n",
      "112/112 [==============================] - 0s 818us/step - loss: 0.3636 - accuracy: 0.8362\n",
      "Epoch 14/100\n",
      "112/112 [==============================] - 0s 819us/step - loss: 0.3564 - accuracy: 0.8404\n",
      "Epoch 15/100\n",
      "112/112 [==============================] - 0s 805us/step - loss: 0.3522 - accuracy: 0.8421\n",
      "Epoch 16/100\n",
      "112/112 [==============================] - 0s 849us/step - loss: 0.3492 - accuracy: 0.8404\n",
      "Epoch 17/100\n",
      "112/112 [==============================] - 0s 844us/step - loss: 0.3446 - accuracy: 0.8441\n",
      "Epoch 18/100\n",
      "112/112 [==============================] - 0s 844us/step - loss: 0.3489 - accuracy: 0.8446\n",
      "Epoch 19/100\n",
      "112/112 [==============================] - 0s 817us/step - loss: 0.3403 - accuracy: 0.8466\n",
      "Epoch 20/100\n",
      "112/112 [==============================] - 0s 824us/step - loss: 0.3397 - accuracy: 0.8446\n",
      "Epoch 21/100\n",
      "112/112 [==============================] - 0s 812us/step - loss: 0.3362 - accuracy: 0.8505\n",
      "Epoch 22/100\n",
      "112/112 [==============================] - 0s 827us/step - loss: 0.3366 - accuracy: 0.8503\n",
      "Epoch 23/100\n",
      "112/112 [==============================] - 0s 827us/step - loss: 0.3393 - accuracy: 0.8413\n",
      "Epoch 24/100\n",
      "112/112 [==============================] - 0s 865us/step - loss: 0.3320 - accuracy: 0.8531\n",
      "Epoch 25/100\n",
      "112/112 [==============================] - 0s 817us/step - loss: 0.3273 - accuracy: 0.8559\n",
      "Epoch 26/100\n",
      "112/112 [==============================] - 0s 829us/step - loss: 0.3283 - accuracy: 0.8539\n",
      "Epoch 27/100\n",
      "112/112 [==============================] - 0s 819us/step - loss: 0.3343 - accuracy: 0.8500\n",
      "Epoch 28/100\n",
      "112/112 [==============================] - 0s 820us/step - loss: 0.3230 - accuracy: 0.8576\n",
      "Epoch 29/100\n",
      "112/112 [==============================] - 0s 858us/step - loss: 0.3203 - accuracy: 0.8587\n",
      "Epoch 30/100\n",
      "112/112 [==============================] - 0s 829us/step - loss: 0.3205 - accuracy: 0.8581\n",
      "Epoch 31/100\n",
      "112/112 [==============================] - 0s 827us/step - loss: 0.3186 - accuracy: 0.8615\n",
      "Epoch 32/100\n",
      "112/112 [==============================] - 0s 826us/step - loss: 0.3191 - accuracy: 0.8562\n",
      "Epoch 33/100\n",
      "112/112 [==============================] - 0s 813us/step - loss: 0.3147 - accuracy: 0.8655\n",
      "Epoch 34/100\n",
      "112/112 [==============================] - 0s 824us/step - loss: 0.3177 - accuracy: 0.8587\n",
      "Epoch 35/100\n",
      "112/112 [==============================] - 0s 819us/step - loss: 0.3126 - accuracy: 0.8643\n",
      "Epoch 36/100\n",
      "112/112 [==============================] - 0s 823us/step - loss: 0.3174 - accuracy: 0.8567\n",
      "Epoch 37/100\n",
      "112/112 [==============================] - 0s 817us/step - loss: 0.3109 - accuracy: 0.8632\n",
      "Epoch 38/100\n",
      "112/112 [==============================] - 0s 829us/step - loss: 0.3129 - accuracy: 0.8612\n",
      "Epoch 39/100\n",
      "112/112 [==============================] - 0s 890us/step - loss: 0.3082 - accuracy: 0.8657\n",
      "Epoch 40/100\n",
      "112/112 [==============================] - 0s 938us/step - loss: 0.3081 - accuracy: 0.8624\n",
      "Epoch 41/100\n",
      "112/112 [==============================] - 0s 976us/step - loss: 0.3106 - accuracy: 0.8632\n",
      "Epoch 42/100\n",
      "112/112 [==============================] - 0s 955us/step - loss: 0.3158 - accuracy: 0.8581\n",
      "Epoch 43/100\n",
      "112/112 [==============================] - 0s 972us/step - loss: 0.3071 - accuracy: 0.8680\n",
      "Epoch 44/100\n",
      "112/112 [==============================] - 0s 970us/step - loss: 0.3051 - accuracy: 0.8677\n",
      "Epoch 45/100\n",
      "112/112 [==============================] - 0s 988us/step - loss: 0.3058 - accuracy: 0.8697\n",
      "Epoch 46/100\n",
      "112/112 [==============================] - 0s 833us/step - loss: 0.3204 - accuracy: 0.8570\n",
      "Epoch 47/100\n",
      "112/112 [==============================] - 0s 825us/step - loss: 0.3045 - accuracy: 0.8649\n",
      "Epoch 48/100\n",
      "112/112 [==============================] - 0s 823us/step - loss: 0.3017 - accuracy: 0.8708\n",
      "Epoch 49/100\n",
      "112/112 [==============================] - 0s 877us/step - loss: 0.3096 - accuracy: 0.8666\n",
      "Epoch 50/100\n",
      "112/112 [==============================] - 0s 1ms/step - loss: 0.3062 - accuracy: 0.8660\n",
      "Epoch 51/100\n",
      "112/112 [==============================] - 0s 1ms/step - loss: 0.3057 - accuracy: 0.8711\n",
      "Epoch 52/100\n",
      "112/112 [==============================] - 0s 1ms/step - loss: 0.3014 - accuracy: 0.8722\n",
      "Epoch 53/100\n",
      "112/112 [==============================] - 0s 1ms/step - loss: 0.3023 - accuracy: 0.8719\n",
      "Epoch 54/100\n",
      "112/112 [==============================] - 0s 1ms/step - loss: 0.3003 - accuracy: 0.8753\n",
      "Epoch 55/100\n",
      "112/112 [==============================] - 0s 1ms/step - loss: 0.3009 - accuracy: 0.8725\n",
      "Epoch 56/100\n",
      "112/112 [==============================] - 0s 1ms/step - loss: 0.2977 - accuracy: 0.8728\n",
      "Epoch 57/100\n",
      "112/112 [==============================] - 0s 988us/step - loss: 0.2966 - accuracy: 0.8733\n",
      "Epoch 58/100\n",
      "112/112 [==============================] - 0s 950us/step - loss: 0.2978 - accuracy: 0.8773\n",
      "Epoch 59/100\n",
      "112/112 [==============================] - 0s 1ms/step - loss: 0.2971 - accuracy: 0.8711\n",
      "Epoch 60/100\n",
      "112/112 [==============================] - 0s 1ms/step - loss: 0.2996 - accuracy: 0.8728\n",
      "Epoch 61/100\n",
      "112/112 [==============================] - 0s 1ms/step - loss: 0.2975 - accuracy: 0.8739\n",
      "Epoch 62/100\n",
      "112/112 [==============================] - 0s 1ms/step - loss: 0.3041 - accuracy: 0.8677\n",
      "Epoch 63/100\n",
      "112/112 [==============================] - 0s 1ms/step - loss: 0.3017 - accuracy: 0.8703\n",
      "Epoch 64/100\n",
      "112/112 [==============================] - 0s 1ms/step - loss: 0.2944 - accuracy: 0.8764\n",
      "Epoch 65/100\n",
      "112/112 [==============================] - 0s 1ms/step - loss: 0.2957 - accuracy: 0.8728\n",
      "Epoch 66/100\n",
      "112/112 [==============================] - 0s 1ms/step - loss: 0.3262 - accuracy: 0.8562\n",
      "Epoch 67/100\n",
      "112/112 [==============================] - 0s 999us/step - loss: 0.2993 - accuracy: 0.8739\n",
      "Epoch 68/100\n",
      "112/112 [==============================] - 0s 1ms/step - loss: 0.2995 - accuracy: 0.8739\n",
      "Epoch 69/100\n",
      "112/112 [==============================] - 0s 1ms/step - loss: 0.2978 - accuracy: 0.8733\n",
      "Epoch 70/100\n",
      "112/112 [==============================] - 0s 1ms/step - loss: 0.2939 - accuracy: 0.8714\n",
      "Epoch 71/100\n",
      "112/112 [==============================] - 0s 970us/step - loss: 0.2928 - accuracy: 0.8778\n",
      "Epoch 72/100\n",
      "112/112 [==============================] - 0s 912us/step - loss: 0.2938 - accuracy: 0.8756\n",
      "Epoch 73/100\n",
      "112/112 [==============================] - 0s 990us/step - loss: 0.2980 - accuracy: 0.8742\n",
      "Epoch 74/100\n",
      "112/112 [==============================] - 0s 953us/step - loss: 0.2999 - accuracy: 0.8736\n",
      "Epoch 75/100\n",
      "112/112 [==============================] - 0s 1ms/step - loss: 0.2936 - accuracy: 0.8795\n",
      "Epoch 76/100\n",
      "112/112 [==============================] - 0s 1ms/step - loss: 0.2921 - accuracy: 0.8778\n",
      "Epoch 77/100\n",
      "112/112 [==============================] - 0s 1ms/step - loss: 0.2940 - accuracy: 0.8759\n",
      "Epoch 78/100\n",
      "112/112 [==============================] - 0s 1ms/step - loss: 0.2910 - accuracy: 0.8807\n",
      "Epoch 79/100\n",
      "112/112 [==============================] - 0s 1ms/step - loss: 0.2929 - accuracy: 0.8750\n",
      "Epoch 80/100\n"
     ]
    },
    {
     "name": "stdout",
     "output_type": "stream",
     "text": [
      "112/112 [==============================] - 0s 1ms/step - loss: 0.2917 - accuracy: 0.8745\n",
      "Epoch 81/100\n",
      "112/112 [==============================] - 0s 1ms/step - loss: 0.3143 - accuracy: 0.8680\n",
      "Epoch 82/100\n",
      "112/112 [==============================] - 0s 1ms/step - loss: 0.2931 - accuracy: 0.8731\n",
      "Epoch 83/100\n",
      "112/112 [==============================] - 0s 977us/step - loss: 0.2883 - accuracy: 0.8807\n",
      "Epoch 84/100\n",
      "112/112 [==============================] - 0s 1ms/step - loss: 0.2926 - accuracy: 0.8764\n",
      "Epoch 85/100\n",
      "112/112 [==============================] - 0s 1ms/step - loss: 0.2912 - accuracy: 0.8759\n",
      "Epoch 86/100\n",
      "112/112 [==============================] - 0s 1ms/step - loss: 0.2929 - accuracy: 0.8736\n",
      "Epoch 87/100\n",
      "112/112 [==============================] - 0s 1ms/step - loss: 0.2903 - accuracy: 0.8748\n",
      "Epoch 88/100\n",
      "112/112 [==============================] - 0s 982us/step - loss: 0.2876 - accuracy: 0.8815\n",
      "Epoch 89/100\n",
      "112/112 [==============================] - 0s 1ms/step - loss: 0.2931 - accuracy: 0.8756\n",
      "Epoch 90/100\n",
      "112/112 [==============================] - 0s 1ms/step - loss: 0.2895 - accuracy: 0.8801\n",
      "Epoch 91/100\n",
      "112/112 [==============================] - 0s 1ms/step - loss: 0.2933 - accuracy: 0.8748\n",
      "Epoch 92/100\n",
      "112/112 [==============================] - 0s 981us/step - loss: 0.2932 - accuracy: 0.8762\n",
      "Epoch 93/100\n",
      "112/112 [==============================] - 0s 971us/step - loss: 0.2912 - accuracy: 0.8764\n",
      "Epoch 94/100\n",
      "112/112 [==============================] - 0s 1ms/step - loss: 0.2916 - accuracy: 0.8764\n",
      "Epoch 95/100\n",
      "112/112 [==============================] - 0s 973us/step - loss: 0.2861 - accuracy: 0.8809\n",
      "Epoch 96/100\n",
      "112/112 [==============================] - 0s 923us/step - loss: 0.2828 - accuracy: 0.8838\n",
      "Epoch 97/100\n",
      "112/112 [==============================] - 0s 898us/step - loss: 0.2899 - accuracy: 0.8759\n",
      "Epoch 98/100\n",
      "112/112 [==============================] - 0s 965us/step - loss: 0.2895 - accuracy: 0.8773\n",
      "Epoch 99/100\n",
      "112/112 [==============================] - 0s 1ms/step - loss: 0.2831 - accuracy: 0.8812\n",
      "Epoch 100/100\n",
      "112/112 [==============================] - 0s 993us/step - loss: 0.2889 - accuracy: 0.8809\n"
     ]
    },
    {
     "data": {
      "text/plain": [
       "<keras.callbacks.History at 0x7fdf6830d9a0>"
      ]
     },
     "execution_count": 32,
     "metadata": {},
     "output_type": "execute_result"
    }
   ],
   "source": [
    "model.compile(optimizer='adam',\n",
    "              loss='categorical_crossentropy',\n",
    "              metrics=['accuracy'])\n",
    "model.fit(X_train_scaled, y_train_categorical, epochs=100,shuffle = True, verbose = 1)"
   ]
  },
  {
   "cell_type": "code",
   "execution_count": 33,
   "metadata": {},
   "outputs": [
    {
     "name": "stdout",
     "output_type": "stream",
     "text": [
      "Model: \"sequential_2\"\n",
      "_________________________________________________________________\n",
      "Layer (type)                 Output Shape              Param #   \n",
      "=================================================================\n",
      "dense_6 (Dense)              (None, 50)                450       \n",
      "_________________________________________________________________\n",
      "dense_7 (Dense)              (None, 50)                2550      \n",
      "_________________________________________________________________\n",
      "dense_8 (Dense)              (None, 2)                 102       \n",
      "=================================================================\n",
      "Total params: 3,102\n",
      "Trainable params: 3,102\n",
      "Non-trainable params: 0\n",
      "_________________________________________________________________\n"
     ]
    }
   ],
   "source": [
    "model.summary()"
   ]
  },
  {
   "cell_type": "code",
   "execution_count": 34,
   "metadata": {},
   "outputs": [
    {
     "name": "stdout",
     "output_type": "stream",
     "text": [
      "112/112 [==============================] - 0s 653us/step - loss: 0.2893 - accuracy: 0.8722\n",
      "Training Data Score: [0.28926995396614075, 0.8722206354141235]\n",
      "55/55 [==============================] - 0s 690us/step - loss: 0.2936 - accuracy: 0.8761\n",
      "Testing Data Score: [0.2936260998249054, 0.8760707974433899]\n"
     ]
    }
   ],
   "source": [
    "print(f\"Training Data Score: {model.evaluate(X_train_scaled, y_train_categorical)}\")\n",
    "print(f\"Testing Data Score: {model.evaluate(X_test_scaled, y_test_categorical)}\")"
   ]
  },
  {
   "cell_type": "markdown",
   "metadata": {},
   "source": [
    "# Hyperparameter Tuning\n",
    "\n",
    "Use `GridSearchCV` to tune the model's parameters"
   ]
  },
  {
   "cell_type": "code",
   "execution_count": 45,
   "metadata": {},
   "outputs": [],
   "source": [
    "# # Create the GridSearchCV model\n",
    "# from sklearn.model_selection import GridSearchCV\n",
    "# param_grid = dict(epochs=[10,20,30])\n",
    "# grid = GridSearchCV(estimator=model, param_grid=param_grid, n_jobs=-1, cv=3, scoring=\"accuracy\")\n"
   ]
  },
  {
   "cell_type": "code",
   "execution_count": 47,
   "metadata": {},
   "outputs": [],
   "source": [
    "\n",
    "# grid_result = grid.fit(X_train_scaled, y_train_categorical)"
   ]
  },
  {
   "cell_type": "code",
   "execution_count": 43,
   "metadata": {},
   "outputs": [],
   "source": [
    "# print(grid2.best_params_)\n",
    "# print(grid2.best_score_)"
   ]
  },
  {
   "cell_type": "markdown",
   "metadata": {},
   "source": [
    "# Save the Model"
   ]
  },
  {
   "cell_type": "code",
   "execution_count": 42,
   "metadata": {},
   "outputs": [],
   "source": [
    "filename = 'Geoffrey_model_3.h5'\n",
    "model.save( filename)"
   ]
  },
  {
   "cell_type": "code",
   "execution_count": null,
   "metadata": {},
   "outputs": [],
   "source": []
  }
 ],
 "metadata": {
  "kernel_info": {
   "name": "dev"
  },
  "kernelspec": {
   "display_name": "Python Data",
   "language": "python",
   "name": "pythondata"
  },
  "language_info": {
   "codemirror_mode": {
    "name": "ipython",
    "version": 3
   },
   "file_extension": ".py",
   "mimetype": "text/x-python",
   "name": "python",
   "nbconvert_exporter": "python",
   "pygments_lexer": "ipython3",
   "version": "3.8.6"
  },
  "nteract": {
   "version": "0.12.3"
  }
 },
 "nbformat": 4,
 "nbformat_minor": 2
}
